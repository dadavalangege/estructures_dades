{
 "cells": [
  {
   "cell_type": "markdown",
   "metadata": {},
   "source": [
    "# tasca 2: Estructura de dades\n",
    "\n",
    "**Exercici 1**\n",
    "Crea una llista que agrupi els mesos de l’any en trimestres (1T: Gener, Febrer i Març, 2T: Abril, Maig, Juny...), és a dir, una llista amb 4 llistes dins.\n",
    "\n",
    "**Exercici 2**\n",
    "Crea un codi que et permeti accedir a:\n",
    "\n",
    "- El segon mes del primer trimestre\n",
    "- Els mesos del primer trimestre\n",
    "- Setembre i octubre\n",
    "\n",
    "**Exercici 3**\n",
    "Crea una llista amb nombres desordenats i respon a les següents preguntes:\n",
    "\n",
    "- Quants números hi ha?\n",
    "- Quantes vegades apareix el número 3\n",
    "- Quantes vegades apareixen els nombres 3 i 4?\n",
    "- Quin és el número més gran?\n",
    "- Quins són els 3 números més petits?\n",
    "- Quin és el rang d’aquesta llista?\n",
    "\n",
    "**Exercici 4**\n",
    "Crea un diccionari de la següent forma i respon a les preguntes:\n",
    "\n",
    "compra = { \"Pomes\" : {\"Qty\": 5, \"€\": 0.42}, \"Peres\" : {\"Qty\": 3, \"€\": 0.66} }\n",
    "\n",
    "- Afegeix alguna fruita més\n",
    "- Quant han costat les peres en total?\n",
    "- Quantes fruites hem comprat en total?\n",
    "- Quina és la fruita més cara?"
   ]
  },
  {
   "cell_type": "code",
   "execution_count": 1,
   "metadata": {},
   "outputs": [
    {
     "name": "stdout",
     "output_type": "stream",
     "text": [
      "[['Gener', 'Febrer', 'Març'], ['Abril', 'Maig', 'Juny'], ['Juliol', 'Agost', 'Septembre'], ['Octubre', 'Novembre', 'Desembre']]\n"
     ]
    }
   ],
   "source": [
    "tri1 = ['Gener', 'Febrer', 'Març']\n",
    "tri2 = ['Abril', 'Maig', 'Juny']\n",
    "tri3 = ['Juliol', 'Agost', 'Septembre']\n",
    "tri4 = ['Octubre', 'Novembre', 'Desembre']\n",
    "trimestres = [tri1, tri2, tri3, tri4]\n",
    "print(trimestres)"
   ]
  },
  {
   "cell_type": "code",
   "execution_count": 5,
   "metadata": {},
   "outputs": [
    {
     "name": "stdout",
     "output_type": "stream",
     "text": [
      "Febrer\n",
      "['Gener', 'Febrer', 'Març']\n",
      "Septembre Octubre\n"
     ]
    }
   ],
   "source": [
    "print(trimestres[0][1])\n",
    "print(trimestres[0])\n",
    "print(trimestres[2][2], trimestres[3][0])"
   ]
  },
  {
   "cell_type": "code",
   "execution_count": 18,
   "metadata": {},
   "outputs": [
    {
     "name": "stdout",
     "output_type": "stream",
     "text": [
      "[0, 2, 2, 0, 0, 8, 9, 4, 3, 2]\n",
      "En aquesta llista hi han 10 numeros.\n",
      "En aquesta llista apareix el numero tres 1 vegades.\n",
      "En aquesta llista apareixen els numeros tres i quatre 2 vegades.\n",
      "El numero més gran de la llista és el 9\n",
      "Els tres números més petits son [0, 0, 0]\n",
      "El rang de la llista és de 0 a 9\n"
     ]
    }
   ],
   "source": [
    "from numpy import random\n",
    "\n",
    "numeros = [random.randint(10) for i in range(10)]\n",
    "print(numeros)\n",
    "\n",
    "print('En aquesta llista hi han', len(numeros), 'numeros.')\n",
    "\n",
    "tresos = [numero for numero in numeros if numero==3]\n",
    "print('En aquesta llista apareix el numero tres', len(tresos), 'vegades.')\n",
    "\n",
    "tres_quatre = [numero for numero in numeros if numero==3 or numero==4]\n",
    "print('En aquesta llista apareixen els numeros tres i quatre', len(tres_quatre), 'vegades.')\n",
    "\n",
    "numeros.sort()\n",
    "print('El numero més gran de la llista és el', numeros[-1])\n",
    "print('Els tres números més petits son', numeros[:3])\n",
    "print('El rang de la llista és de', numeros[0], 'a', numeros[-1])\n"
   ]
  },
  {
   "cell_type": "code",
   "execution_count": 33,
   "metadata": {},
   "outputs": [
    {
     "name": "stdout",
     "output_type": "stream",
     "text": [
      "Les peres han costat 1.98 euros\n",
      "Hem comprat 15 fruites\n",
      "La fruita més cara son els Mangos , que costen 1.8 euros.\n"
     ]
    }
   ],
   "source": [
    "compra = { \"Pomes\" : {\"Qty\": 5, \"€\": 0.42}, \"Peres\" : {\"Qty\": 3, \"€\": 0.66} }\n",
    "\n",
    "compra.update({\"Platans\" : {\"Qty\": 6, \"€\": 0.35}})\n",
    "compra.update({\"Mangos\" : {\"Qty\": 1, \"€\": 1.80}})\n",
    "\n",
    "cost_peres = compra.get(\"Peres\").get(\"Qty\") * compra.get(\"Peres\").get(\"€\")\n",
    "print('Les peres han costat', cost_peres, 'euros')\n",
    "\n",
    "qty_total = 0\n",
    "for fruta in compra.values():\n",
    "    qty_total += fruta.get(\"Qty\")\n",
    "print('Hem comprat', qty_total, 'fruites')\n",
    "\n",
    "p_fruta_mes_cara = 0\n",
    "n_fruta_mes_cara = \"\"\n",
    "for fruta in compra:\n",
    "    if compra[fruta].get(\"€\") > p_fruta_mes_cara:\n",
    "        p_fruta_mes_cara = compra[fruta].get(\"€\")\n",
    "        n_fruta_mes_cara = fruta\n",
    "        \n",
    "print('La fruita més cara son els', n_fruta_mes_cara, ', que costen', p_fruta_mes_cara, 'euros.' )\n"
   ]
  }
 ],
 "metadata": {
  "kernelspec": {
   "display_name": "Python 3",
   "language": "python",
   "name": "python3"
  },
  "language_info": {
   "codemirror_mode": {
    "name": "ipython",
    "version": 3
   },
   "file_extension": ".py",
   "mimetype": "text/x-python",
   "name": "python",
   "nbconvert_exporter": "python",
   "pygments_lexer": "ipython3",
   "version": "3.8.5"
  }
 },
 "nbformat": 4,
 "nbformat_minor": 4
}
